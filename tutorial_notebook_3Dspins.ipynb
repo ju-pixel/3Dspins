{
 "cells": [
  {
   "cell_type": "markdown",
   "metadata": {},
   "source": [
    "# Visualizing Spins in 3D with Julia and GLMakie"
   ]
  },
  {
   "cell_type": "markdown",
   "metadata": {},
   "source": [
    "***Using Julia 1.9.3 version on macOS Sonoma 14.0, Apple M1 Pro chip.***"
   ]
  },
  {
   "cell_type": "markdown",
   "metadata": {},
   "source": [
    "Install the necessary packages if not already done:"
   ]
  },
  {
   "cell_type": "code",
   "execution_count": 12,
   "metadata": {},
   "outputs": [],
   "source": [
    "# using Pkg\n",
    "# Pkg.add(\"GLMakie\")\n",
    "# Pkg.add(\"GeometryBasics\")\n",
    "# Pkg.add(\"Colors\")"
   ]
  },
  {
   "cell_type": "markdown",
   "metadata": {},
   "source": [
    "Import them at the start of the notebook:"
   ]
  },
  {
   "cell_type": "code",
   "execution_count": 2,
   "metadata": {},
   "outputs": [],
   "source": [
    "using GLMakie, GeometryBasics, Colors"
   ]
  },
  {
   "cell_type": "markdown",
   "metadata": {},
   "source": [
    "GLMakie needs to be activated to render the graphics."
   ]
  },
  {
   "cell_type": "code",
   "execution_count": 13,
   "metadata": {},
   "outputs": [],
   "source": [
    "GLMakie.activate!()"
   ]
  },
  {
   "cell_type": "markdown",
   "metadata": {},
   "source": [
    "### The Parameters\n",
    "Create a struct for parameters:"
   ]
  },
  {
   "cell_type": "code",
   "execution_count": 14,
   "metadata": {},
   "outputs": [
    {
     "data": {
      "text/plain": [
       "Par(3, 1.0, 1.0, 0.7853981633974483)"
      ]
     },
     "metadata": {},
     "output_type": "display_data"
    }
   ],
   "source": [
    "struct Par\n",
    "    N::Int64      # number of cells across the lattice\n",
    "    L::Float64    # length of the elements\n",
    "    J::Float64   # NN distance (=1 here)\n",
    "    β::Float64    # angle spins make with the x axis \n",
    "end\n",
    "\n",
    "C = Par(3, 1.0, 1.0, π/4)"
   ]
  },
  {
   "cell_type": "markdown",
   "metadata": {},
   "source": [
    "### Functions"
   ]
  },
  {
   "cell_type": "markdown",
   "metadata": {},
   "source": [
    "Generate lattice points (position vectors for each spin to get assigned to):"
   ]
  },
  {
   "cell_type": "code",
   "execution_count": 15,
   "metadata": {},
   "outputs": [
    {
     "data": {
      "text/plain": [
       "get_spin_centers (generic function with 1 method)"
      ]
     },
     "metadata": {},
     "output_type": "display_data"
    }
   ],
   "source": [
    "function get_spin_centers(C::Par)\n",
    "\n",
    "    # generate a periodic lattice of points\n",
    "\n",
    "    # side length l in terms of J spacing\n",
    "    # l is the distance from outermost spin centers on each side\n",
    "    \n",
    "    l = (2C.N - 1) * C.J\n",
    "\n",
    "    spin_centers = Vector{Float64}[]\n",
    "    \n",
    "    for x = -l/2 : C.J : l/2 \n",
    "        for y = l/2 : -C.J : -l/2\n",
    "            push!(spin_centers, Float32[x,y,0.0])\n",
    "        end\n",
    "    end\n",
    "\n",
    "    return spin_centers\n",
    "end"
   ]
  },
  {
   "cell_type": "code",
   "execution_count": 16,
   "metadata": {},
   "outputs": [
    {
     "data": {
      "text/plain": [
       "36-element Vector{Vector{Float64}}:\n",
       " [-2.5, 2.5, 0.0]\n",
       " [-2.5, 1.5, 0.0]\n",
       " [-2.5, 0.5, 0.0]\n",
       " [-2.5, -0.5, 0.0]\n",
       " [-2.5, -1.5, 0.0]\n",
       " [-2.5, -2.5, 0.0]\n",
       " [-1.5, 2.5, 0.0]\n",
       " [-1.5, 1.5, 0.0]\n",
       " [-1.5, 0.5, 0.0]\n",
       " [-1.5, -0.5, 0.0]\n",
       " ⋮\n",
       " [1.5, -0.5, 0.0]\n",
       " [1.5, -1.5, 0.0]\n",
       " [1.5, -2.5, 0.0]\n",
       " [2.5, 2.5, 0.0]\n",
       " [2.5, 1.5, 0.0]\n",
       " [2.5, 0.5, 0.0]\n",
       " [2.5, -0.5, 0.0]\n",
       " [2.5, -1.5, 0.0]\n",
       " [2.5, -2.5, 0.0]"
      ]
     },
     "metadata": {},
     "output_type": "display_data"
    }
   ],
   "source": [
    "spin_centers = get_spin_centers(C)"
   ]
  },
  {
   "cell_type": "markdown",
   "metadata": {},
   "source": [
    "Generate an **ordered** spin configuration."
   ]
  },
  {
   "cell_type": "code",
   "execution_count": 7,
   "metadata": {},
   "outputs": [
    {
     "data": {
      "text/plain": [
       "create_T2_config (generic function with 1 method)"
      ]
     },
     "metadata": {},
     "output_type": "display_data"
    }
   ],
   "source": [
    "function create_T2_config(C::Par)\n",
    "\n",
    "    # individual spin vectors grouped in \"cells\" of 4\n",
    "    spin_1 = [cos(C.β), -sin(C.β), 0]\n",
    "    spin_2 = [cos(C.β), cos(C.β), 0]\n",
    "    spin_3, spin_4 = spin_2, spin_1\n",
    "\n",
    "    # number of columns in the lattice (it is also a # of spins per side)\n",
    "    columns = 2C.N\n",
    "\n",
    "    μ_hat = Vector{Float64}[]\n",
    "\n",
    "    for col = 1:columns\n",
    "        spins = isodd(col) ? [spin_1, spin_2] : [spin_3, spin_4]\n",
    "        append!(μ_hat, repeat(spins, C.N))\n",
    "    end\n",
    "\n",
    "    return μ_hat\n",
    "end"
   ]
  },
  {
   "cell_type": "code",
   "execution_count": 8,
   "metadata": {},
   "outputs": [
    {
     "data": {
      "text/plain": [
       "36-element Vector{Vector{Float64}}:\n",
       " [0.7071067811865476, -0.7071067811865475, 0.0]\n",
       " [0.7071067811865476, 0.7071067811865476, 0.0]\n",
       " [0.7071067811865476, -0.7071067811865475, 0.0]\n",
       " [0.7071067811865476, 0.7071067811865476, 0.0]\n",
       " [0.7071067811865476, -0.7071067811865475, 0.0]\n",
       " [0.7071067811865476, 0.7071067811865476, 0.0]\n",
       " [0.7071067811865476, 0.7071067811865476, 0.0]\n",
       " [0.7071067811865476, -0.7071067811865475, 0.0]\n",
       " [0.7071067811865476, 0.7071067811865476, 0.0]\n",
       " [0.7071067811865476, -0.7071067811865475, 0.0]\n",
       " ⋮\n",
       " [0.7071067811865476, 0.7071067811865476, 0.0]\n",
       " [0.7071067811865476, -0.7071067811865475, 0.0]\n",
       " [0.7071067811865476, 0.7071067811865476, 0.0]\n",
       " [0.7071067811865476, 0.7071067811865476, 0.0]\n",
       " [0.7071067811865476, -0.7071067811865475, 0.0]\n",
       " [0.7071067811865476, 0.7071067811865476, 0.0]\n",
       " [0.7071067811865476, -0.7071067811865475, 0.0]\n",
       " [0.7071067811865476, 0.7071067811865476, 0.0]\n",
       " [0.7071067811865476, -0.7071067811865475, 0.0]"
      ]
     },
     "metadata": {},
     "output_type": "display_data"
    }
   ],
   "source": [
    "μ_hat = create_T2_config(C)"
   ]
  },
  {
   "cell_type": "markdown",
   "metadata": {},
   "source": [
    "Generate a **random** spin configuration."
   ]
  },
  {
   "cell_type": "code",
   "execution_count": 9,
   "metadata": {},
   "outputs": [
    {
     "data": {
      "text/plain": [
       "create_random_config (generic function with 1 method)"
      ]
     },
     "metadata": {},
     "output_type": "display_data"
    }
   ],
   "source": [
    "function create_random_config(C::Par)\n",
    "\n",
    "    # individual spin vectors grouped in \"cells\" of 4\n",
    "    spin_1 = [cos(C.β), -sin(C.β), 0]\n",
    "    spin_2 = [cos(C.β), cos(C.β), 0]\n",
    "    spin_3, spin_4 = spin_2, spin_1\n",
    "\n",
    "    # number of columns in the lattice (it is also a # of spins per side)\n",
    "    columns = 2C.N\n",
    "    \n",
    "    μ_hat_rand = Vector{Float64}[]\n",
    "\n",
    "    for col = 1:columns\n",
    "        spins = isodd(col) ? [spin_1 *rand([1,-1]) , spin_2 *rand([1,-1])] : [spin_3 *rand([1,-1]), spin_4 *rand([1,-1])]\n",
    "        append!(μ_hat_rand, repeat(spins, C.N))\n",
    "    end\n",
    "\n",
    "    return μ_hat_rand\n",
    "end"
   ]
  },
  {
   "cell_type": "code",
   "execution_count": 10,
   "metadata": {},
   "outputs": [
    {
     "data": {
      "text/plain": [
       "36-element Vector{Vector{Float64}}:\n",
       " [0.7071067811865476, -0.7071067811865475, 0.0]\n",
       " [-0.7071067811865476, -0.7071067811865476, -0.0]\n",
       " [0.7071067811865476, -0.7071067811865475, 0.0]\n",
       " [-0.7071067811865476, -0.7071067811865476, -0.0]\n",
       " [0.7071067811865476, -0.7071067811865475, 0.0]\n",
       " [-0.7071067811865476, -0.7071067811865476, -0.0]\n",
       " [-0.7071067811865476, -0.7071067811865476, -0.0]\n",
       " [0.7071067811865476, -0.7071067811865475, 0.0]\n",
       " [-0.7071067811865476, -0.7071067811865476, -0.0]\n",
       " [0.7071067811865476, -0.7071067811865475, 0.0]\n",
       " ⋮\n",
       " [-0.7071067811865476, -0.7071067811865476, -0.0]\n",
       " [-0.7071067811865476, 0.7071067811865475, -0.0]\n",
       " [-0.7071067811865476, -0.7071067811865476, -0.0]\n",
       " [-0.7071067811865476, -0.7071067811865476, -0.0]\n",
       " [-0.7071067811865476, 0.7071067811865475, -0.0]\n",
       " [-0.7071067811865476, -0.7071067811865476, -0.0]\n",
       " [-0.7071067811865476, 0.7071067811865475, -0.0]\n",
       " [-0.7071067811865476, -0.7071067811865476, -0.0]\n",
       " [-0.7071067811865476, 0.7071067811865475, -0.0]"
      ]
     },
     "metadata": {},
     "output_type": "display_data"
    }
   ],
   "source": [
    "μ_hat_rand = create_random_config(C)"
   ]
  },
  {
   "cell_type": "markdown",
   "metadata": {},
   "source": [
    "Now we have the data to plot."
   ]
  },
  {
   "cell_type": "code",
   "execution_count": 11,
   "metadata": {},
   "outputs": [],
   "source": [
    "function plot_spins(C::Par)\n",
    "\n",
    "    spin_centers = get_spin_centers(C)\n",
    "    μ_hat = create_T2_config(C)\n",
    "    #μ_hat_rand = create_random_config(C)\n",
    "\n",
    "    spins_per_side = 2C.N\n",
    "    num_spins = spins_per_side^2\n",
    "\n",
    "    spin_center = [Point3f(i) for i in spin_centers] \n",
    "    spin_conf = [(C.L/2) * Vec3f(i) for i in μ_hat]\n",
    "    #spin_conf = [(C.L/2) * Vec3f(i) for i in μ_hat_rand]\n",
    "\n",
    "    fig = Figure(resolution=(720, 720), dpi=600)\n",
    "    ax = Axis3(fig[1,1], aspect=:data, perspectiveness=0.7)\n",
    "\n",
    "    arrows!(ax, spin_center, spin_conf, \n",
    "            linecolor=:darkgrey, \n",
    "            arrowcolor=RGB(0.43, 0.43, 0.43), \n",
    "            quality=32, \n",
    "            arrowsize=Vec3f0(0.3, 0.3, C.L/2), \n",
    "            linewidth=0.15, \n",
    "            align=:center,)\n",
    "\n",
    "    hidedecorations!(ax)\n",
    "    hidespines!(ax)\n",
    "\n",
    "    save(\"$(num_spins)_orderedConfig_spins3D.png\", fig)\n",
    "    # save(\"$(num_spins)_randConfig_spins3D.png\", fig)\n",
    "\n",
    "    return fig\n",
    "end\n",
    "\n",
    "plot_spins(C)\n"
   ]
  }
 ],
 "metadata": {
  "kernelspec": {
   "display_name": "Julia 1.9.3",
   "language": "julia",
   "name": "julia-1.9"
  },
  "language_info": {
   "file_extension": ".jl",
   "mimetype": "application/julia",
   "name": "julia",
   "version": "1.9.3"
  }
 },
 "nbformat": 4,
 "nbformat_minor": 2
}
